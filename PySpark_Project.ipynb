{
  "nbformat": 4,
  "nbformat_minor": 0,
  "metadata": {
    "colab": {
      "provenance": [],
      "toc_visible": true,
      "authorship_tag": "ABX9TyPEmimtllcmGCIqyM+kUHRB",
      "include_colab_link": true
    },
    "kernelspec": {
      "name": "python3",
      "display_name": "Python 3"
    },
    "language_info": {
      "name": "python"
    }
  },
  "cells": [
    {
      "cell_type": "markdown",
      "metadata": {
        "id": "view-in-github",
        "colab_type": "text"
      },
      "source": [
        "<a href=\"https://colab.research.google.com/github/Sam-Ny/PySpark-Project/blob/main/PySpark_Project.ipynb\" target=\"_parent\"><img src=\"https://colab.research.google.com/assets/colab-badge.svg\" alt=\"Open In Colab\"/></a>"
      ]
    },
    {
      "cell_type": "code",
      "execution_count": null,
      "metadata": {
        "colab": {
          "base_uri": "https://localhost:8080/"
        },
        "collapsed": true,
        "id": "CSyAj3bSemvp",
        "outputId": "c8b8601f-af74-47b0-a896-220e9923fdbe"
      },
      "outputs": [
        {
          "output_type": "stream",
          "name": "stdout",
          "text": [
            "Collecting pyspark\n",
            "  Downloading pyspark-3.5.2.tar.gz (317.3 MB)\n",
            "\u001b[2K     \u001b[90m━━━━━━━━━━━━━━━━━━━━━━━━━━━━━━━━━━━━━━━━\u001b[0m \u001b[32m317.3/317.3 MB\u001b[0m \u001b[31m4.5 MB/s\u001b[0m eta \u001b[36m0:00:00\u001b[0m\n",
            "\u001b[?25h  Preparing metadata (setup.py) ... \u001b[?25l\u001b[?25hdone\n",
            "Requirement already satisfied: py4j in /usr/local/lib/python3.10/dist-packages (0.10.9.7)\n",
            "Building wheels for collected packages: pyspark\n",
            "  Building wheel for pyspark (setup.py) ... \u001b[?25l\u001b[?25hdone\n",
            "  Created wheel for pyspark: filename=pyspark-3.5.2-py2.py3-none-any.whl size=317812365 sha256=aee34d99e29f24625bc410d3bb0272ca79995a706c0f841f7b19e5810128028f\n",
            "  Stored in directory: /root/.cache/pip/wheels/34/34/bd/03944534c44b677cd5859f248090daa9fb27b3c8f8e5f49574\n",
            "Successfully built pyspark\n",
            "Installing collected packages: pyspark\n",
            "Successfully installed pyspark-3.5.2\n"
          ]
        }
      ],
      "source": [
        "!pip install pyspark py4j"
      ]
    },
    {
      "cell_type": "code",
      "source": [
        "from pyspark.sql import SparkSession\n",
        "from pyspark.sql.types import StructType, StructField, IntegerType, StringType\n",
        "import pyspark.sql.functions as func\n",
        "from pyspark.sql.functions import *\n",
        "from pyspark.sql.functions import regexp_replace"
      ],
      "metadata": {
        "id": "6Qk8-3VPesS0"
      },
      "execution_count": 34,
      "outputs": []
    },
    {
      "cell_type": "code",
      "source": [
        "from google.colab import drive\n",
        "drive.mount('/content/drive')"
      ],
      "metadata": {
        "colab": {
          "base_uri": "https://localhost:8080/"
        },
        "id": "H9wzA2Flevn8",
        "outputId": "92a92b6e-d2f0-4d41-82bf-074e85801e4e"
      },
      "execution_count": null,
      "outputs": [
        {
          "output_type": "stream",
          "name": "stdout",
          "text": [
            "Mounted at /content/drive\n"
          ]
        }
      ]
    },
    {
      "cell_type": "code",
      "source": [
        "! apt-get install git\n",
        "! git clone https://github.com/Sam-Ny/PySpark-Project.git"
      ],
      "metadata": {
        "colab": {
          "base_uri": "https://localhost:8080/"
        },
        "collapsed": true,
        "id": "95VH91yWfNxO",
        "outputId": "e246700e-fda7-48de-c6b2-af5787af340e"
      },
      "execution_count": null,
      "outputs": [
        {
          "output_type": "stream",
          "name": "stdout",
          "text": [
            "Reading package lists... Done\n",
            "Building dependency tree... Done\n",
            "Reading state information... Done\n",
            "git is already the newest version (1:2.34.1-1ubuntu1.11).\n",
            "0 upgraded, 0 newly installed, 0 to remove and 49 not upgraded.\n",
            "Cloning into 'PySpark-Project'...\n",
            "remote: Enumerating objects: 4, done.\u001b[K\n",
            "remote: Counting objects: 100% (4/4), done.\u001b[K\n",
            "remote: Compressing objects: 100% (4/4), done.\u001b[K\n",
            "remote: Total 4 (delta 0), reused 0 (delta 0), pack-reused 0 (from 0)\u001b[K\n",
            "Receiving objects: 100% (4/4), 4.79 KiB | 4.79 MiB/s, done.\n"
          ]
        }
      ]
    },
    {
      "cell_type": "markdown",
      "source": [
        "**PySpark Project Start**"
      ],
      "metadata": {
        "id": "ddw7uNZ_ktHg"
      }
    },
    {
      "cell_type": "code",
      "source": [
        "#Creating the SparkSession\n",
        "spark = SparkSession.builder.appName(\"FirstSparkProject\").getOrCreate()"
      ],
      "metadata": {
        "id": "PBwrEGFikjt3"
      },
      "execution_count": 89,
      "outputs": []
    },
    {
      "cell_type": "code",
      "source": [
        "df = spark.read.csv('/content/PySpark-Project/PySpark Code/googleplaystore.csv',sep=',',header='true',escape='\"',inferSchema='true')"
      ],
      "metadata": {
        "id": "NspT6CcJobbI"
      },
      "execution_count": 90,
      "outputs": []
    },
    {
      "cell_type": "code",
      "source": [
        "df.count()"
      ],
      "metadata": {
        "id": "OkZmjCeupO3q"
      },
      "execution_count": null,
      "outputs": []
    },
    {
      "cell_type": "code",
      "source": [
        "df.show(1,truncate=False)"
      ],
      "metadata": {
        "colab": {
          "base_uri": "https://localhost:8080/"
        },
        "collapsed": true,
        "id": "tMVFWOwJp0Tz",
        "outputId": "6e00bde9-38b1-4fad-bf86-cf09a3d16727"
      },
      "execution_count": 73,
      "outputs": [
        {
          "output_type": "stream",
          "name": "stdout",
          "text": [
            "+----------------------------------------------+--------------+------+-------+----+--------+----+-----+--------------+------------+---------------+-----------+------------+\n",
            "|App                                           |Category      |Rating|Reviews|Size|Installs|Type|Price|Content Rating|Genres      |Last Updated   |Current Ver|Android Ver |\n",
            "+----------------------------------------------+--------------+------+-------+----+--------+----+-----+--------------+------------+---------------+-----------+------------+\n",
            "|Photo Editor & Candy Camera & Grid & ScrapBook|ART_AND_DESIGN|4.1   |159    |19M |10,000+ |Free|0    |Everyone      |Art & Design|January 7, 2018|1.0.0      |4.0.3 and up|\n",
            "+----------------------------------------------+--------------+------+-------+----+--------+----+-----+--------------+------------+---------------+-----------+------------+\n",
            "only showing top 1 row\n",
            "\n"
          ]
        }
      ]
    },
    {
      "cell_type": "code",
      "source": [
        "df.printSchema() #Schema is not properly inferred because the data has some nulls."
      ],
      "metadata": {
        "colab": {
          "base_uri": "https://localhost:8080/"
        },
        "collapsed": true,
        "id": "DkQJMDnlqAVj",
        "outputId": "5239e947-0eb5-486f-b31b-6b410c7eb68a"
      },
      "execution_count": 74,
      "outputs": [
        {
          "output_type": "stream",
          "name": "stdout",
          "text": [
            "root\n",
            " |-- App: string (nullable = true)\n",
            " |-- Category: string (nullable = true)\n",
            " |-- Rating: double (nullable = true)\n",
            " |-- Reviews: string (nullable = true)\n",
            " |-- Size: string (nullable = true)\n",
            " |-- Installs: string (nullable = true)\n",
            " |-- Type: string (nullable = true)\n",
            " |-- Price: string (nullable = true)\n",
            " |-- Content Rating: string (nullable = true)\n",
            " |-- Genres: string (nullable = true)\n",
            " |-- Last Updated: string (nullable = true)\n",
            " |-- Current Ver: string (nullable = true)\n",
            " |-- Android Ver: string (nullable = true)\n",
            "\n"
          ]
        }
      ]
    },
    {
      "cell_type": "markdown",
      "source": [
        "# Data Cleaning\n",
        "\n",
        "\n",
        "\n"
      ],
      "metadata": {
        "id": "U-wJkG8xqlp9"
      }
    },
    {
      "cell_type": "code",
      "source": [
        "df = df.drop(\"size\",\"Content Rating\",\"Last Updated\",\"Current Ver\",\"Android Ver\")"
      ],
      "metadata": {
        "id": "Dk0cZf-fqszW"
      },
      "execution_count": 91,
      "outputs": []
    },
    {
      "cell_type": "code",
      "source": [
        "df.show(2,truncate=False)"
      ],
      "metadata": {
        "colab": {
          "base_uri": "https://localhost:8080/"
        },
        "collapsed": true,
        "id": "Xj5qR31KrNbt",
        "outputId": "cd606108-8600-4738-b8ba-0d62fc6c9486"
      },
      "execution_count": 80,
      "outputs": [
        {
          "output_type": "stream",
          "name": "stdout",
          "text": [
            "+----------------------------------------------+--------------+------+-------+--------+----+-----+-------------------------+\n",
            "|App                                           |Category      |Rating|Reviews|Installs|Type|Price|Genres                   |\n",
            "+----------------------------------------------+--------------+------+-------+--------+----+-----+-------------------------+\n",
            "|Photo Editor & Candy Camera & Grid & ScrapBook|ART_AND_DESIGN|4.1   |159    |10,000+ |Free|0    |Art & Design             |\n",
            "|Coloring book moana                           |ART_AND_DESIGN|3.9   |967    |500,000+|Free|0    |Art & Design;Pretend Play|\n",
            "+----------------------------------------------+--------------+------+-------+--------+----+-----+-------------------------+\n",
            "only showing top 2 rows\n",
            "\n"
          ]
        }
      ]
    },
    {
      "cell_type": "code",
      "source": [
        "df2=df.withColumn('Reviews',col('Reviews').cast(IntegerType()))\\\n",
        "    .withColumn('Installs',regexp_replace(col(\"Installs\"),\"[,]\",\"\"))\\\n",
        "    .withColumn('Installs',regexp_replace(col(\"Installs\"),\"[^0-9]\",\"\"))\\\n",
        "    .withColumn('Installs',col('Installs').cast(IntegerType()))\\\n",
        "    .withColumn('Price',regexp_replace(col(\"Price\"),\"[$]\",\"\"))\\\n",
        "    .withColumn('Price',col('Price').cast(IntegerType()))"
      ],
      "metadata": {
        "id": "rVHzcSWpsd9Z"
      },
      "execution_count": 92,
      "outputs": []
    },
    {
      "cell_type": "code",
      "source": [
        "df2.show(2,truncate=False)\n",
        "df2.dtypes"
      ],
      "metadata": {
        "colab": {
          "base_uri": "https://localhost:8080/"
        },
        "collapsed": true,
        "id": "XXcjT-Uuz_dC",
        "outputId": "16ed73f0-1783-486e-d493-0675c4f41a3a"
      },
      "execution_count": 93,
      "outputs": [
        {
          "output_type": "stream",
          "name": "stdout",
          "text": [
            "+----------------------------------------------+--------------+------+-------+--------+----+-----+-------------------------+\n",
            "|App                                           |Category      |Rating|Reviews|Installs|Type|Price|Genres                   |\n",
            "+----------------------------------------------+--------------+------+-------+--------+----+-----+-------------------------+\n",
            "|Photo Editor & Candy Camera & Grid & ScrapBook|ART_AND_DESIGN|4.1   |159    |10000   |Free|0    |Art & Design             |\n",
            "|Coloring book moana                           |ART_AND_DESIGN|3.9   |967    |500000  |Free|0    |Art & Design;Pretend Play|\n",
            "+----------------------------------------------+--------------+------+-------+--------+----+-----+-------------------------+\n",
            "only showing top 2 rows\n",
            "\n"
          ]
        },
        {
          "output_type": "execute_result",
          "data": {
            "text/plain": [
              "[('App', 'string'),\n",
              " ('Category', 'string'),\n",
              " ('Rating', 'double'),\n",
              " ('Reviews', 'int'),\n",
              " ('Installs', 'int'),\n",
              " ('Type', 'string'),\n",
              " ('Price', 'int'),\n",
              " ('Genres', 'string')]"
            ]
          },
          "metadata": {},
          "execution_count": 93
        }
      ]
    },
    {
      "cell_type": "markdown",
      "source": [
        "# Data Analysis"
      ],
      "metadata": {
        "id": "vygQDoJQ3nEx"
      }
    },
    {
      "cell_type": "markdown",
      "source": [
        "Using Spark Sql and pyspark dataframe operations to do data analysis"
      ],
      "metadata": {
        "id": "8I3lCXa04IKy"
      }
    },
    {
      "cell_type": "code",
      "source": [
        "df2.createOrReplaceTempView(\"apps\")"
      ],
      "metadata": {
        "id": "OJwUcQg24FRq"
      },
      "execution_count": 100,
      "outputs": []
    },
    {
      "cell_type": "code",
      "source": [
        "#Using Sql queries\n",
        "df3=spark.sql(\"select app,category from apps\")\n",
        "df3.show(2,truncate=False )\n",
        "\n",
        "#Using pyspark operations\n",
        "df3=df2.select(\"category\",\"app\")\n",
        "df3.show(2,truncate=False )"
      ],
      "metadata": {
        "collapsed": true,
        "id": "P9EMrdcK4v9V"
      },
      "execution_count": null,
      "outputs": []
    },
    {
      "cell_type": "markdown",
      "source": [
        "Top 10 Reviews given to the apps"
      ],
      "metadata": {
        "id": "67Ei6uwg7FFp"
      }
    },
    {
      "cell_type": "code",
      "source": [
        "#Using Sql queries\n",
        "query = '''select app,sum(reviews) as total_reviews from apps group by app order by 2 desc'''\n",
        "df3 = spark.sql(query)\n",
        "df3.show(10, truncate=False)\n",
        "\n",
        "#Using pyspark operations\n",
        "df3 = df2.groupBy('app')\\\n",
        "         .agg(sum('reviews').alias('total_reviews'))\\\n",
        "         .orderBy(sum('reviews').desc())\n",
        "df3.show(10, truncate=False)\n",
        "\n",
        "# Or we can also use order by as\n",
        "\n",
        "df3 = df2.groupBy('app')\\\n",
        "         .agg(sum('reviews').alias('total_reviews'))\\\n",
        "         .orderBy(desc('total_reviews'))\n",
        "df3.show(10, truncate=False)"
      ],
      "metadata": {
        "collapsed": true,
        "id": "6Aaep2Q46eXD"
      },
      "execution_count": null,
      "outputs": []
    },
    {
      "cell_type": "code",
      "source": [],
      "metadata": {
        "id": "bZDyxnZvAU66"
      },
      "execution_count": null,
      "outputs": []
    }
  ]
}